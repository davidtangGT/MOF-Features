{
 "cells": [
  {
   "cell_type": "code",
   "execution_count": 98,
   "metadata": {},
   "outputs": [],
   "source": [
    "import PIL\n",
    "from PIL import Image \n",
    "import numpy as np\n",
    "\n",
    "sprt = \"C:/Users/Baris/Documents/PixelArt/FloatCycleSPRITE_outline.png\" #sprite\n",
    "shd  = \"C:/Users/Baris/Documents/PixelArt/FloatCycleSPRITE_shade.png\" #shade\n",
    "txtr = \"C:/Users/Baris/Documents/PixelArt/NFT_textureMask.png\" #34x26 (x3 frames sprite sheet)\n",
    "f,r,l = \"Front\", \"Right\", \"Left\"\n",
    "crop_crd  = {\"Front\":(9, 0, 25, 26), \"Right\":(16,0,34,26), \"Left\":(0,0,18,26)}\n",
    "directions  = [f,f,f,r,r,r,r,f,f,f,f,l,l,l,l]\n",
    "coordinates = []\n",
    "\n",
    "GIF_WIDTH  = 32\n",
    "GIF_HEIGHT = 32"
   ]
  },
  {
   "cell_type": "code",
   "execution_count": 99,
   "metadata": {},
   "outputs": [],
   "source": [
    "im = Image.open(\"C:/Users/Baris/Documents/PixelArt/NFT_sprite.png\")\n",
    "dat = [i for i in Image.Image.getdata(im) ]\n",
    "w,h,c = im.size[0], im.size[1], len(dat[0])#widht, height, color dimensions\n",
    "SHmat = np.array(dat).reshape(h,w,c)"
   ]
  },
  {
   "cell_type": "code",
   "execution_count": 100,
   "metadata": {},
   "outputs": [],
   "source": [
    "sprite_frames = {\"Front\" : {\"matrix\":[], \"nonBgIndices\": [], \"pixels\" : [], \"img\": None},\n",
    "          \"Left\"  : {\"matrix\":[], \"nonBgIndices\": [], \"pixels\" : [], \"img\": None},\n",
    "          \"Right\" : {\"matrix\":[], \"nonBgIndices\": [], \"pixels\" : [], \"img\": None}}\n",
    "\n",
    "bg_frames = []\n",
    "final_frames = []"
   ]
  },
  {
   "cell_type": "code",
   "execution_count": 101,
   "metadata": {},
   "outputs": [],
   "source": [
    "def getNonBGIndices(FrameMatrix, color2ignore = (255,0,0)):\n",
    "    # color2ignore is the background color\n",
    "    indices = [] #(row, column)\n",
    "    for ind in range(len(FrameMatrix)):\n",
    "        pxl = FrameMatrix[ind]\n",
    "        if (pxl[0] != color2ignore[0] or pxl[1] != color2ignore[1] or pxl[2] != color2ignore[2]):\n",
    "            indices.append(ind)\n",
    "    return indices\n",
    "\n",
    "\n",
    "def convert2im(matrix, width, height):\n",
    "    new_im = Image.new(\"RGBA\",(width,height))\n",
    "    new_im.putdata(matrix)\n",
    "    return new_im\n",
    "\n",
    "\n",
    "def decreasebrightness(pxl, shade):\n",
    "    r,g,b = pxl[0],pxl[1],pxl[2]\n",
    "    r0,g0,b0 = shade[0],shade[1],shade[2]\n",
    "    r1,g1,b1 = int(max(0, r*(r0/255))),int(max(0, b*(b0/255))),int(max(0, g*(g0/255)))\n",
    "    return (r1,b1,g1,255)\n",
    "\n",
    "\n",
    "def split2sections(img, sliceWidth):\n",
    "    #Requires the slices to cover the full height of the sprite sheet\n",
    "    outputMatrixArray = []\n",
    "    dat = [i for i in Image.Image.getdata(img) ]\n",
    "    print(len(dat))\n",
    "    w,h,c = img.size[0], img.size[1], len(dat[0])#widht, height, color dimensions\n",
    "    \n",
    "    numSlices = int(w/sliceWidth)\n",
    "    for slice_ind in range(numSlices):\n",
    "        new_slice = []\n",
    "        for i in range(int(h)):\n",
    "            start = int((i*w) + (sliceWidth * slice_ind))\n",
    "            for j in range(int(sliceWidth)):\n",
    "                new_slice.append(dat[start+j])\n",
    "        outputMatrixArray.append(new_slice)\n",
    "    return outputMatrixArray\n",
    "\n",
    "\n",
    "def map2mat(frame_dict,texture_matrix):\n",
    "    data = []\n",
    "    data_matrix=[(0,0,0,0) for i in range(len(frame_dict['matrix']))]\n",
    "    #np.array([(0,0,0,0) for i in range(texture_matrix.shape[1] * texture_matrix.shape[0])]).reshape(texture_matrix.shape[0], texture_matrix.shape[1], 4)\n",
    "    for i in frame_dict['nonBgIndices']:\n",
    "        data_matrix[i] = decreasebrightness(texture_matrix[i], frame_dict['matrix'][i])\n",
    "#     new_im = Image.new(\"RGBA\",(texture_matrix.shape[1], texture_matrix.shape[0]))\n",
    "#     new_im.putdata(data)\n",
    "    new_im = convert2im(data_matrix,frame_dict['w'],frame_dict['h'])\n",
    "    #{\"matrix\":[], \"nonBgIndices\": [], \"pixels\" : [], \"img\": None}\n",
    "    return new_im\n",
    "\n",
    "def imgAndMat(img_addr):\n",
    "    img = Image.open(img_addr)\n",
    "    dat = [i for i in Image.Image.getdata(img) ]\n",
    "    mat = dat\n",
    "    return img, mat\n",
    "    \n",
    "def overlap(og,lyr,coord):\n",
    "    return og.paste(lyr,coord,lyr)\n",
    "\n",
    "\n",
    "def main(sprt:str, txtr:str, bg_sprt:str, coordinates:list, out_img: str, frames=15):\n",
    "    sprite_frames = {\"Front\" : {\"matrix\":[], \"nonBgIndices\": [], \"pixels\" : [], \"img\": None, 'w':0, 'h':0},\n",
    "          \"Left\"  : {\"matrix\":[], \"nonBgIndices\": [], \"pixels\" : [], \"img\": None, 'w':0, 'h':0},\n",
    "          \"Right\" : {\"matrix\":[], \"nonBgIndices\": [], \"pixels\" : [], \"img\": None, 'w':0, 'h':0}}\n",
    "    bg_frames = []\n",
    "    texture_frames = []\n",
    "    final_frames = []\n",
    "    \n",
    "    ims,sprite_mat = imgAndMat(sprt)\n",
    "    imt,texture_mat = imgAndMat(txtr)\n",
    "    imbg,bg_mat  = imgAndMat(bg_sprt)\n",
    "\n",
    "    sects = split2sections(imbg, GIF_WIDTH)#(sprite_mat, imbg.size[0]/GIF_WIDTH)\n",
    "    \n",
    "    for i in sects:\n",
    "        bg_frames.append(convert2im(i,GIF_WIDTH,imbg.size[1]))\n",
    "\n",
    "    sects = split2sections(ims, ims.size[0]/3)\n",
    "    print(sects[1] == sects[2])\n",
    "    sprite_frames[\"Front\"][\"matrix\"]  = sects[0]\n",
    "    sprite_frames[\"Left\"][\"matrix\"]   = sects[1]\n",
    "    sprite_frames[\"Right\"][\"matrix\"]  = sects[2]\n",
    "    sprite_frames[\"Front\"][\"w\"],sprite_frames[\"Front\"][\"h\"] = int(ims.size[0]/3), ims.size[1] \n",
    "    sprite_frames[\"Left\"][\"w\"],sprite_frames[\"Left\"][\"h\"] = int(ims.size[0]/3), ims.size[1] \n",
    "    sprite_frames[\"Right\"][\"w\"],sprite_frames[\"Right\"][\"h\"] = int(ims.size[0]/3), ims.size[1] \n",
    "    \n",
    "    #{\"matrix\":[], \"nonBgIndices\": [], \"pixels\" : [], \"img\": None}\n",
    "    for key in sprite_frames:\n",
    "        sprite_frames[key][\"nonBgIndices\"] = getNonBGIndices(sprite_frames[key][\"matrix\"])\n",
    "        sprite_frames[key][\"img\"] = map2mat(sprite_frames[key],texture_mat).crop(crop_crd[key])\n",
    "        \n",
    "        #\"pixels\" : []\n",
    "    #\"img\":\n",
    "    return sprite_frames"
   ]
  },
  {
   "cell_type": "code",
   "execution_count": 102,
   "metadata": {},
   "outputs": [
    {
     "name": "stdout",
     "output_type": "stream",
     "text": [
      "2652\n",
      "2652\n",
      "False\n"
     ]
    }
   ],
   "source": [
    "sprt = \"C:/Users/Baris/Documents/PixelArt/NFT_sprite.png\" #sprite\n",
    "shd  = \"C:/Users/Baris/Documents/PixelArt/FloatCycleSPRITE_shade.png\" #shade\n",
    "txtr = \"C:/Users/Baris/Documents/PixelArt/txtrtest.png\"\n",
    "x = main(sprt,txtr,sprt, [], sprt)"
   ]
  },
  {
   "cell_type": "code",
   "execution_count": 95,
   "metadata": {},
   "outputs": [
    {
     "data": {
      "text/plain": [
       "2652"
      ]
     },
     "execution_count": 95,
     "metadata": {},
     "output_type": "execute_result"
    }
   ],
   "source": [
    "34*26 *3"
   ]
  },
  {
   "cell_type": "code",
   "execution_count": 103,
   "metadata": {},
   "outputs": [
    {
     "data": {
      "image/png": "[encoded data removed]",
      "text/plain": [
       "<PIL.Image.Image image mode=RGBA size=180x260 at 0x25FEF550A20>"
      ]
     },
     "execution_count": 103,
     "metadata": {},
     "output_type": "execute_result"
    }
   ],
   "source": [
    "m = x[\"Left\"][\"img\"].crop((x1,0,x2,26))\n",
    "m.resize((m.size[0]*10,m.size[1]*10),Image.NEAREST)"
   ]
  },
  {
   "cell_type": "code",
   "execution_count": 96,
   "metadata": {},
   "outputs": [],
   "source": [
    "im = Image.open(shd)\n",
    "dat = [i for i in Image.Image.getdata(im) ]\n",
    "w,h,c = im.size[1], im.size[0], len(dat[0])#widht, height, color dimensions\n",
    "datmat = np.array(dat).reshape(h,w,c)"
   ]
  },
  {
   "cell_type": "code",
   "execution_count": 46,
   "metadata": {},
   "outputs": [],
   "source": [
    "color = [52, 137, 235, 255]"
   ]
  },
  {
   "cell_type": "code",
   "execution_count": 91,
   "metadata": {},
   "outputs": [],
   "source": [
    "new_im = Image.new(\"RGB\",(32,32))\n",
    "new_im.putdata(all_pixels)\n",
    "#new_im.save(\"test.jpg\")"
   ]
  },
  {
   "cell_type": "code",
   "execution_count": 111,
   "metadata": {},
   "outputs": [
    {
     "data": {
      "image/png": "[encoded data removed]",
      "text/plain": [
       "<PIL.Image.Image image mode=RGB size=320x320 at 0x25FF0E03358>"
      ]
     },
     "execution_count": 111,
     "metadata": {},
     "output_type": "execute_result"
    }
   ],
   "source": [
    "bgr = \"C:/Users/Baris/Documents/PixelArt/nft_bgtest.png\"\n",
    "bg = Image.open(bgr)\n",
    "m = x[\"Right\"][\"img\"]\n",
    "bg.paste(m,[8,0],m)\n",
    "bg.resize((320,320), Image.NEAREST)"
   ]
  },
  {
   "cell_type": "code",
   "execution_count": 128,
   "metadata": {},
   "outputs": [],
   "source": [
    "imgs = []\n",
    "gifname = 'C:/users/baris/desktop/GIFout.gif'\n",
    "coords = [[8,0],\n",
    "         [9,0],\n",
    "         [9,1],\n",
    "         [9,2],\n",
    "         [9,3],\n",
    "         [8,3],\n",
    "         [8,3],\n",
    "         [7,3],\n",
    "         [7,2],\n",
    "         [7,1],\n",
    "         [7,0],\n",
    "         [8,0]] \n",
    "im = Image.new(\"RGB\",(320,320))\n",
    "for coord in coords:\n",
    "    bg = Image.open(bgr)\n",
    "    m = x[\"Right\"][\"img\"]\n",
    "    bg.paste(m,coord,m)\n",
    "    f = bg.resize((320,320), Image.NEAREST)\n",
    "    imgs.append(f)\n",
    "im.save(gifname, save_all=True, append_images=imgs, loop=0, filter = Image.NEAREST)\n"
   ]
  },
  {
   "cell_type": "code",
   "execution_count": 130,
   "metadata": {},
   "outputs": [],
   "source": [
    "im.show()"
   ]
  },
  {
   "cell_type": "code",
   "execution_count": null,
   "metadata": {},
   "outputs": [],
   "source": []
  }
 ],
 "metadata": {
  "kernelspec": {
   "display_name": "Python 3",
   "language": "python",
   "name": "python3"
  },
  "language_info": {
   "codemirror_mode": {
    "name": "ipython",
    "version": 3
   },
   "file_extension": ".py",
   "mimetype": "text/x-python",
   "name": "python",
   "nbconvert_exporter": "python",
   "pygments_lexer": "ipython3",
   "version": "3.7.1"
  }
 },
 "nbformat": 4,
 "nbformat_minor": 4
}
